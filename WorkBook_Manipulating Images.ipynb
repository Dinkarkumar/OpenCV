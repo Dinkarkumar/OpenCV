{
 "cells": [
  {
   "cell_type": "markdown",
   "metadata": {},
   "source": [
    "# Lecture 2.4"
   ]
  },
  {
   "cell_type": "code",
   "execution_count": 1,
   "metadata": {},
   "outputs": [],
   "source": [
    "import cv2\n",
    "import numpy as np"
   ]
  },
  {
   "cell_type": "code",
   "execution_count": 2,
   "metadata": {},
   "outputs": [],
   "source": [
    "input = cv2.imread('./images/Dinkar.jpg')"
   ]
  },
  {
   "cell_type": "code",
   "execution_count": 3,
   "metadata": {},
   "outputs": [
    {
     "data": {
      "text/plain": [
       "numpy.ndarray"
      ]
     },
     "execution_count": 3,
     "metadata": {},
     "output_type": "execute_result"
    }
   ],
   "source": [
    "type(input)"
   ]
  },
  {
   "cell_type": "code",
   "execution_count": 4,
   "metadata": {},
   "outputs": [
    {
     "data": {
      "text/plain": [
       "(1043, 864, 3)"
      ]
     },
     "execution_count": 4,
     "metadata": {},
     "output_type": "execute_result"
    }
   ],
   "source": [
    "input.shape"
   ]
  },
  {
   "cell_type": "code",
   "execution_count": 5,
   "metadata": {},
   "outputs": [],
   "source": [
    "cv2.imshow('Hello World!',input) # 'Imshow' is used to read a numpy array into images"
   ]
  },
  {
   "cell_type": "code",
   "execution_count": 6,
   "metadata": {},
   "outputs": [],
   "source": [
    "cv2.waitKey(0) # Wait untill a key is pressed\n",
    "cv2.destroyAllWindows() # Destroy all windows of images "
   ]
  },
  {
   "cell_type": "code",
   "execution_count": 7,
   "metadata": {},
   "outputs": [],
   "source": [
    "import cv2\n",
    "\n",
    "input = cv2.imread('./images/Dinkar.jpg')\n",
    "cv2.imshow('Hello World!',input)\n",
    "cv2.waitKey(0)\n",
    "cv2.destroyAllWindows()"
   ]
  },
  {
   "cell_type": "code",
   "execution_count": 8,
   "metadata": {},
   "outputs": [
    {
     "name": "stdout",
     "output_type": "stream",
     "text": [
      "Height of the image: 1043 pixels\n",
      "Width of the image: 864 pixels\n"
     ]
    }
   ],
   "source": [
    "# Let's print each dimension of the image\n",
    "print('Height of the image:',int(input.shape[0]), 'pixels')\n",
    "print('Width of the image:',int(input.shape[1]),'pixels')"
   ]
  },
  {
   "cell_type": "code",
   "execution_count": 9,
   "metadata": {},
   "outputs": [
    {
     "data": {
      "text/plain": [
       "True"
      ]
     },
     "execution_count": 9,
     "metadata": {},
     "output_type": "execute_result"
    }
   ],
   "source": [
    "# Simply use 'imwrite' specifuying the file name and the image to be saved\n",
    "cv2.imwrite('output.jpg',input)\n",
    "cv2.imwrite('output.png',input)"
   ]
  },
  {
   "cell_type": "markdown",
   "metadata": {},
   "source": [
    "# Lecture 2.5"
   ]
  },
  {
   "cell_type": "code",
   "execution_count": 10,
   "metadata": {},
   "outputs": [],
   "source": [
    "#Let's Convert our image to the greyScale\n",
    "import cv2\n",
    "\n",
    "#Load our input image\n",
    "image = cv2.imread('./images/Dinkar.jpg')\n",
    "cv2.imshow('Original',input)\n",
    "cv2.waitKey()\n",
    "\n",
    "# We use cvtColor, to convert to grayscale\n",
    "gray_image = cv2.cvtColor(image,cv2.COLOR_BGR2GRAY)\n",
    "cv2.imshow('GrayScaled Image',gray_image)\n",
    "cv2.waitKey()\n",
    "cv2.destroyAllWindows()"
   ]
  },
  {
   "cell_type": "code",
   "execution_count": 11,
   "metadata": {},
   "outputs": [],
   "source": [
    "# Another faster method \n",
    "img = cv2.imread('./images/Dinkar.jpg',0)\n",
    "\n",
    "cv2.imshow('GrayScale',img)\n",
    "cv2.waitKey()\n",
    "cv2.destroyAllWindows()"
   ]
  },
  {
   "cell_type": "markdown",
   "metadata": {},
   "source": [
    "#  Lecture 2.6"
   ]
  },
  {
   "cell_type": "code",
   "execution_count": 12,
   "metadata": {},
   "outputs": [],
   "source": [
    "import cv2\n",
    "import numpy as np\n",
    "\n",
    "image = cv2.imread('./images/Dinkar.jpg')"
   ]
  },
  {
   "cell_type": "code",
   "execution_count": 13,
   "metadata": {},
   "outputs": [
    {
     "name": "stdout",
     "output_type": "stream",
     "text": [
      "199 213 211\n"
     ]
    }
   ],
   "source": [
    "#Lets look at the individual color levels for the first pixel(0,0)\n",
    "B,G,R = image[0,0]\n",
    "\n",
    "print(B,G,R)"
   ]
  },
  {
   "cell_type": "code",
   "execution_count": 14,
   "metadata": {},
   "outputs": [
    {
     "name": "stdout",
     "output_type": "stream",
     "text": [
      "(1043, 864)\n"
     ]
    }
   ],
   "source": [
    "#let's see what happens when we convert it to grayscale\n",
    "gray_img = cv2.cvtColor(image,cv2.COLOR_BGR2GRAY)\n",
    "print(gray_img.shape)"
   ]
  },
  {
   "cell_type": "code",
   "execution_count": 15,
   "metadata": {},
   "outputs": [
    {
     "data": {
      "text/plain": [
       "211"
      ]
     },
     "execution_count": 15,
     "metadata": {},
     "output_type": "execute_result"
    }
   ],
   "source": [
    "# It has only 2 dimension. Each pixel coordinate has only one value(previously 3) with rannges 0 to 255\n",
    "gray_img[0,0]"
   ]
  },
  {
   "cell_type": "code",
   "execution_count": 17,
   "metadata": {},
   "outputs": [],
   "source": [
    "# Another Useful Color Space is HSV\n",
    "# Infact HSV is very useful in color filtering\n",
    "# H: 0-180, S: 0-255, V: 0-255\n",
    "image = cv2.imread('./images/Dinkar.jpg')\n",
    "\n",
    "hsv_image = cv2.cvtColor(image,cv2.COLOR_BGR2HSV)\n",
    "\n",
    "cv2.imshow('HSV image',hsv_image)\n",
    "cv2.imshow('Hue channel',hsv_image[:,:,0])\n",
    "cv2.imshow('Saturation Channel',hsv_image[:,:,1])\n",
    "cv2.imshow('Value Channel',hsv_image[:,:,2])\n",
    "\n",
    "cv2.waitKey()\n",
    "cv2.destroyAllWindows()"
   ]
  },
  {
   "cell_type": "code",
   "execution_count": 22,
   "metadata": {},
   "outputs": [
    {
     "name": "stdout",
     "output_type": "stream",
     "text": [
      "(1043, 864)\n"
     ]
    }
   ],
   "source": [
    "# let's now explore looking at individual channels in an RGB image \n",
    "image = cv2.imread('./images/Dinkar.jpg')\n",
    "\n",
    "# OpenCV's 'split' function splits the image into each color index\n",
    "B,G,R = cv2.split(image)\n",
    "\n",
    "print(B.shape)\n",
    "cv2.imshow(\"Red\",R)\n",
    "cv2.imshow(\"Green\",G)\n",
    "cv2.imshow(\"Blue\",B)\n",
    "cv2.waitKey(0)\n",
    "cv2.destroyAllWindows()\n",
    "\n",
    "#Let's remake the original image,\n",
    "merged = cv2.merge([B,G,R])\n",
    "cv2.imshow('Merged',merged)\n",
    "cv2.waitKey(0)\n",
    "\n",
    "#let's amplify the blue color\n",
    "merged = cv2.merge([B+100,G,R])\n",
    "cv2.imshow(\"Merged with Blue Amplified\",merged)\n",
    "cv2.waitKey(0)\n",
    "\n",
    "# Let's amplify the Red color\n",
    "merged = cv2.merge([B,G,R+100])\n",
    "cv2.imshow(\"Merged with red Amplified\",merged)\n",
    "cv2.waitKey(0)\n",
    "\n",
    "#Let's amplify the Green Color\n",
    "merged = cv2.merge([B,G+100,R])\n",
    "cv2.imshow(\"Merged with Green Amplified\",merged)\n",
    "cv2.waitKey(0)\n",
    "\n",
    "cv2.destroyAllWindows()"
   ]
  },
  {
   "cell_type": "code",
   "execution_count": 23,
   "metadata": {},
   "outputs": [
    {
     "data": {
      "text/plain": [
       "array([[[199, 213, 211],\n",
       "        [199, 213, 211],\n",
       "        [199, 213, 211],\n",
       "        ...,\n",
       "        [200, 213, 211],\n",
       "        [200, 213, 211],\n",
       "        [200, 213, 211]],\n",
       "\n",
       "       [[199, 213, 211],\n",
       "        [199, 213, 211],\n",
       "        [199, 213, 211],\n",
       "        ...,\n",
       "        [200, 213, 211],\n",
       "        [200, 213, 211],\n",
       "        [200, 213, 211]],\n",
       "\n",
       "       [[198, 212, 210],\n",
       "        [198, 212, 210],\n",
       "        [198, 212, 210],\n",
       "        ...,\n",
       "        [200, 213, 211],\n",
       "        [200, 213, 211],\n",
       "        [200, 213, 211]],\n",
       "\n",
       "       ...,\n",
       "\n",
       "       [[  7,   9,  10],\n",
       "        [  7,   9,  10],\n",
       "        [  8,  10,  11],\n",
       "        ...,\n",
       "        [  8,   8,   8],\n",
       "        [  8,   8,   8],\n",
       "        [  8,   8,   8]],\n",
       "\n",
       "       [[  7,   9,  10],\n",
       "        [  8,  10,  11],\n",
       "        [  8,  10,  11],\n",
       "        ...,\n",
       "        [  8,   8,   8],\n",
       "        [  8,   8,   8],\n",
       "        [  8,   8,   8]],\n",
       "\n",
       "       [[  7,   9,  10],\n",
       "        [  8,  10,  11],\n",
       "        [  9,  11,  12],\n",
       "        ...,\n",
       "        [  8,   8,   8],\n",
       "        [  8,   8,   8],\n",
       "        [  8,   8,   8]]], dtype=uint8)"
      ]
     },
     "execution_count": 23,
     "metadata": {},
     "output_type": "execute_result"
    }
   ],
   "source": [
    "image"
   ]
  },
  {
   "cell_type": "code",
   "execution_count": 26,
   "metadata": {},
   "outputs": [
    {
     "data": {
      "text/plain": [
       "(1043, 864)"
      ]
     },
     "execution_count": 26,
     "metadata": {},
     "output_type": "execute_result"
    }
   ],
   "source": [
    "B.shape"
   ]
  },
  {
   "cell_type": "code",
   "execution_count": 27,
   "metadata": {},
   "outputs": [],
   "source": [
    "# To Visualise the each component(red,blue,green) seperately\n",
    "import cv2\n",
    "import numpy as np\n",
    "\n",
    "B,G,R  = cv2.split(image)\n",
    "\n",
    "# Let's create a matrix of zeros with dimension of the image h x w\n",
    "zeros = np.zeros(image.shape[:2],dtype = \"uint8\")\n",
    "\n",
    "cv2.imshow(\"Red\",cv2.merge([zeros,zeros,R]))\n",
    "cv2.imshow(\"Blue\",cv2.merge([B,zeros,zeros]))\n",
    "cv2.imshow(\"Green\",cv2.merge([zeros,G,zeros]))\n",
    "           \n",
    "cv2.waitKey(0)\n",
    "cv2.destroyAllWindows()"
   ]
  },
  {
   "cell_type": "code",
   "execution_count": 28,
   "metadata": {},
   "outputs": [
    {
     "data": {
      "text/plain": [
       "(1043, 864, 3)"
      ]
     },
     "execution_count": 28,
     "metadata": {},
     "output_type": "execute_result"
    }
   ],
   "source": [
    "image.shape"
   ]
  },
  {
   "cell_type": "markdown",
   "metadata": {},
   "source": [
    "# Lecture 2.7"
   ]
  },
  {
   "cell_type": "code",
   "execution_count": 24,
   "metadata": {},
   "outputs": [
    {
     "data": {
      "image/png": "[encoded data removed]",
      "text/plain": [
       "<Figure size 432x288 with 1 Axes>"
      ]
     },
     "metadata": {
      "needs_background": "light"
     },
     "output_type": "display_data"
    },
    {
     "data": {
      "image/png": "[encoded data removed]",
      "text/plain": [
       "<Figure size 432x288 with 1 Axes>"
      ]
     },
     "metadata": {
      "needs_background": "light"
     },
     "output_type": "display_data"
    }
   ],
   "source": [
    "import cv2\n",
    "import numpy as np\n",
    "\n",
    "# We need to import matplotlib to create our histogram plots \n",
    "import matplotlib.pyplot as plt\n",
    "\n",
    "image  = cv2.imread('./images/Dinkar.jpg')\n",
    "histogram = cv2.calcHist([image],[0],None,[256],[0,256])\n",
    "\n",
    "# We plot a histogram , ravel() falttens our image array\n",
    "plt.hist(image.ravel(),256,[0,256])\n",
    "plt.show()\n",
    "\n",
    "# Viewing Seperate Color Channels \n",
    "color = ('b','g','r')\n",
    "\n",
    "# We now seprate the colors and plot each in the Histogram\n",
    "for i,col in enumerate(color):\n",
    "    histogram2 = cv2.calcHist([image],[i],None,[256],[0,256])\n",
    "    plt.plot(histogram2,color = col)\n",
    "    plt.xlim([0,256])\n",
    "    \n",
    "plt.show()"
   ]
  },
  {
   "cell_type": "markdown",
   "metadata": {},
   "source": [
    "# Lecture 2.8"
   ]
  },
  {
   "cell_type": "code",
   "execution_count": 25,
   "metadata": {},
   "outputs": [],
   "source": [
    "#Drawing Images and shapes using OpenCV"
   ]
  },
  {
   "cell_type": "code",
   "execution_count": 29,
   "metadata": {},
   "outputs": [],
   "source": [
    "import cv2\n",
    "import numpy as np\n",
    "\n",
    "# Create a black Image\n",
    "image = np.zeros((1024,512,3),np.uint8)\n",
    "\n",
    "# Can we make this in black and white ?\n",
    "image_bw = np.zeros((512,1024),np.uint8)\n",
    "\n",
    "cv2.imshow(\"Black Rectangle (Color)\",image)\n",
    "cv2.imshow(\"Black rectangle (B&W)\",image_bw)\n",
    "\n",
    "cv2.waitKey(0)\n",
    "cv2.destroyAllWindows()"
   ]
  },
  {
   "cell_type": "code",
   "execution_count": 31,
   "metadata": {},
   "outputs": [],
   "source": [
    "# let's draw a line over our black square \n",
    "#cv2.line(image,starting coordinates, ending coordinates,color,thickness)\n",
    "# Draw a diagonal blue line of thickness of 5 pixels\n",
    "image = np.zeros((1024,1024,3),np.uint8)\n",
    "cv2.line(image,(0,0),(1024,1024),(0,255,127),5)\n",
    "cv2.imshow(\"Line on black background\",image)\n",
    "\n",
    "cv2.waitKey(0)\n",
    "cv2.destroyAllWindows()"
   ]
  },
  {
   "cell_type": "code",
   "execution_count": 32,
   "metadata": {},
   "outputs": [],
   "source": [
    "# Let's now draw a rectangle\n",
    "#cv2.rectangle(image,starting vertex , opposite vertex,color,thickness)\n",
    "# Draw a rectangle in a black square\n",
    "image = np.zeros((1024,1024,3),np.uint8)\n",
    "\n",
    "cv2.rectangle(image,(255,255),(700,700),(120,120,200),3)\n",
    "cv2.imshow(\"Rectangle\",image)\n",
    "cv2.waitKey(0)\n",
    "cv2.destroyAllWindows()"
   ]
  },
  {
   "cell_type": "code",
   "execution_count": 37,
   "metadata": {},
   "outputs": [],
   "source": [
    "#let's now draw a circle\n",
    "#cv2.circle(image,center,radius,color,fill)\n",
    "image = np.zeros((1024,1024,3),np.uint8)\n",
    "\n",
    "cv2.circle(image,(500,500),200,(100,200,200),0)\n",
    "cv2.imshow(\"Circle\",image)\n",
    "\n",
    "cv2.waitKey(0)\n",
    "cv2.destroyAllWindows()"
   ]
  },
  {
   "cell_type": "code",
   "execution_count": 41,
   "metadata": {},
   "outputs": [],
   "source": [
    "#Let's now draw some polygons\n",
    "\n",
    "image = np.zeros((1024,1024,3),np.uint8)\n",
    "\n",
    "# Let's define four points\n",
    "pts = np.array([[10,50],[400,50],[90,200],[50,500]],np.int32)\n",
    "\n",
    "# let's now reshape our points in form required by polylines\n",
    "pts = pts.reshape((-1,1,2))\n",
    "\n",
    "cv2.polylines(image,[pts],True,(0,255,200),3)\n",
    "cv2.imshow(\"Polygon\",image)\n",
    "cv2.waitKey(0)\n",
    "cv2.destroyAllWindows()"
   ]
  },
  {
   "cell_type": "code",
   "execution_count": 42,
   "metadata": {},
   "outputs": [],
   "source": [
    "#Let's even add text with cv2.putText\n",
    "# cv2.putText(image,'Text to Display',bottom left starting point, font,font size,Color,Thickness)\n",
    "image = np.zeros((1024,1024,3),np.uint8)\n",
    "\n",
    "cv2.putText(image,\"Hello World!\",(75,290),cv2.FONT_HERSHEY_COMPLEX,2,(100,170,3),3)\n",
    "cv2.imshow(\"Hello World!\",image)\n",
    "cv2.waitKey(0)\n",
    "cv2.destroyAllWindows()"
   ]
  },
  {
   "cell_type": "markdown",
   "metadata": {},
   "source": [
    "# Lecture 3.2"
   ]
  },
  {
   "cell_type": "code",
   "execution_count": 1,
   "metadata": {},
   "outputs": [],
   "source": [
    "# This an affine transform that simply shifts the position of an image\n",
    "# We use cv2.warpAffine to implement these transformations\n",
    "\n",
    "import cv2\n",
    "import numpy as np\n",
    "\n",
    "image = cv2.imread('./images/Dinkar.jpg')\n",
    "\n",
    "#Store height and width of the image\n",
    "height , width = image.shape[:2]\n",
    "\n",
    "quarter_height , quarter_width = height/4, width/4\n",
    "\n",
    "#      | 1 0 Tx |\n",
    "#  T = | 0 1 Ty |\n",
    "\n",
    "# T is our translatiion matrix\n",
    "T = np.float32([[1,0,quarter_width],[0,1, quarter_height]])\n",
    "\n",
    "# We use warpAffine to transform the image using the matrix , T\n",
    "img_translation = cv2.warpAffine(image,T,(width,height))\n",
    "\n",
    "cv2.imshow('Translation',img_translation)\n",
    "cv2.waitKey()\n",
    "cv2.destroyAllWindows()"
   ]
  },
  {
   "cell_type": "code",
   "execution_count": 2,
   "metadata": {},
   "outputs": [
    {
     "data": {
      "text/plain": [
       "array([[  1.  ,   0.  , 216.  ],\n",
       "       [  0.  ,   1.  , 260.75]], dtype=float32)"
      ]
     },
     "execution_count": 2,
     "metadata": {},
     "output_type": "execute_result"
    }
   ],
   "source": [
    "T"
   ]
  },
  {
   "cell_type": "markdown",
   "metadata": {},
   "source": [
    "# Lecture 3.3"
   ]
  },
  {
   "cell_type": "code",
   "execution_count": 7,
   "metadata": {},
   "outputs": [],
   "source": [
    "# Rotations\n",
    "# cv2.getRotationMatrix2D(rotation_center_x, rotation_center_y,angle_of_rotation,scale)\n",
    "\n",
    "import cv2\n",
    "import numpy as np\n",
    "\n",
    "image = cv2.imread('./images/Dinkar.jpg')\n",
    "height,width = image.shape[:2]\n",
    "\n",
    "# Divide by two to rotate the image around its center\n",
    "rotation_matrix = cv2.getRotationMatrix2D((width/2,height/2),90,0.5)\n",
    "\n",
    "rotated_image = cv2.warpAffine(image,rotation_matrix,(width,height))\n",
    "\n",
    "cv2.imshow('Rotated Image',rotated_image)\n",
    "cv2.waitKey(0)\n",
    "cv2.destroyAllWindows()"
   ]
  },
  {
   "cell_type": "code",
   "execution_count": 8,
   "metadata": {},
   "outputs": [],
   "source": [
    "# Notice all the black space surrounding the image \n",
    "# We could now crop the image as we can calculate it's new size(we haven't learned cropping yet)\n",
    "#But here's another method for simple rotations that uses the cv2.transpose function\n",
    "\n",
    "img = cv2.imread('./images/Dinkar.jpg')\n",
    "\n",
    "rotated_image = cv2.transpose(img)\n",
    "cv2.imshow('Rotated Image - Method 2',rotated_image)\n",
    "cv2.waitKey(0)\n",
    "\n",
    "cv2.destroyAllWindows()"
   ]
  },
  {
   "cell_type": "markdown",
   "metadata": {},
   "source": [
    "# Lecture 3.4"
   ]
  },
  {
   "cell_type": "code",
   "execution_count": 2,
   "metadata": {},
   "outputs": [],
   "source": [
    "#Re-Sizing is very easy using the cv2.resize function, it's arguments are :\n",
    "# cv2.resize(image,dsize(output image size),x scale,y scale,interpolation)\n",
    "\n",
    "import cv2\n",
    "import numpy as np\n",
    "\n",
    "# Load our input image \n",
    "image = cv2.imread('./images/Dinkar.jpg')\n"
   ]
  },
  {
   "cell_type": "code",
   "execution_count": 4,
   "metadata": {},
   "outputs": [],
   "source": [
    "#Let's make our image 3/4th of the it's original size\n",
    "image_scaled = cv2.resize(image,None , fx = 0.75,fy = 0.75)\n",
    "\n",
    "cv2.imshow('Scaling - Linear Interpolation',image_scaled)\n",
    "\n",
    "# Let's double the size of our image\n",
    "img_scaled = cv2.resize(image, None , fx = 2, fy = 2, interpolation = cv2.INTER_CUBIC)\n",
    "cv2.imshow('Scaling - Cubic Interpolation',img_scaled)\n",
    "cv2.waitKey(0)\n",
    "\n",
    "# let's skew the re-sizing by setting exact dimensions\n",
    "img_scaled = cv2.resize(image,(1000,1000), interpolation = cv2.INTER_AREA)\n",
    "cv2.imshow('Scaling - Skewed Size',img_scaled)\n",
    "cv2.waitKey()\n",
    "\n",
    "cv2.destroyAllWindows()"
   ]
  },
  {
   "cell_type": "markdown",
   "metadata": {},
   "source": [
    "# Lecture 3.5"
   ]
  },
  {
   "cell_type": "code",
   "execution_count": 5,
   "metadata": {},
   "outputs": [],
   "source": [
    "#Image Pyramids \n",
    "# useful when scaling images in object detection\n",
    "import cv2\n",
    "image  = cv2.imread('./images/Dinkar.jpg')\n",
    "smaller = cv2.pyrDown(image)\n",
    "larger = cv2.pyrUp(smaller)\n",
    "\n",
    "cv2.imshow('Original',image)\n",
    "cv2.imshow('Smaller',smaller)\n",
    "cv2.imshow('Larger',larger)\n",
    "cv2.waitKey(0)\n",
    "cv2.destroyAllWindows()"
   ]
  },
  {
   "cell_type": "markdown",
   "metadata": {},
   "source": [
    "# Cropping"
   ]
  },
  {
   "cell_type": "code",
   "execution_count": 7,
   "metadata": {},
   "outputs": [],
   "source": [
    "import cv2\n",
    "import numpy as np\n",
    "\n",
    "image = cv2.imread('./images/Dinkar.jpg')\n",
    "height , width = image.shape[:2]\n",
    "\n",
    "# let's get the starting pixel coordinates(top left of cropping rectangle)\n",
    "start_row , start_col = int(height*0.15), int(width*0.15)\n",
    "\n",
    "# Let's get the ending pixel coordinates (bottom right)\n",
    "end_row , end_col = int(height*0.75), int(width*0.75)\n",
    "\n",
    "# Simply use indexing to crop out the rectangle we desire \n",
    "cropped = image[start_row:end_row , start_col:end_col]\n",
    "\n",
    "cv2.imshow(\"Original Image\", image)\n",
    "cv2.waitKey(0)\n",
    "\n",
    "cv2.imshow(\"Cropped Image\",cropped)\n",
    "cv2.waitKey(0)\n",
    "cv2.destroyAllWindows()"
   ]
  },
  {
   "cell_type": "markdown",
   "metadata": {},
   "source": [
    "# Lecture 3.7"
   ]
  },
  {
   "cell_type": "code",
   "execution_count": 12,
   "metadata": {},
   "outputs": [],
   "source": [
    "# Arithmetic Operations \n",
    "# These are the simple operations that allow us to directly add or substract to the color intensity.\n",
    "# Calculates the per-element operation of two arrays. The overall effect is increasing and decreasing brightness.\n",
    "\n",
    "import cv2\n",
    "import numpy as np\n",
    "\n",
    "image = cv2.imread('./images/Dinkar.jpg')\n",
    "\n",
    "# Create  a matrix of ones , then multiply it by a scaler of 100\n",
    "# This gives a matrix with same dimension of our image with all values being 100.\n",
    "M = np.ones(image.shape,dtype = \"uint8\")*25\n",
    "\n",
    "# We use this to add this matrix M, to our image \n",
    "# Notice the increase in brightness\n",
    "added = cv2.add(image,M)\n",
    "cv2.imshow(\"Added\",added)\n",
    "cv2.waitKey(0)\n",
    "\n",
    "# Likewise we can also subtract \n",
    "# Notice the decrease in brightness\n",
    "subtracted = cv2.subtract(image,M)\n",
    "cv2.imshow(\"Subtracted\",subtracted)\n",
    "\n",
    "cv2.waitKey(0)\n",
    "cv2.destroyAllWindows()"
   ]
  },
  {
   "cell_type": "code",
   "execution_count": 10,
   "metadata": {},
   "outputs": [
    {
     "data": {
      "text/plain": [
       "(1043, 864, 3)"
      ]
     },
     "execution_count": 10,
     "metadata": {},
     "output_type": "execute_result"
    }
   ],
   "source": [
    "M.shape"
   ]
  },
  {
   "cell_type": "code",
   "execution_count": 19,
   "metadata": {},
   "outputs": [],
   "source": [
    "# Bitwise Operations and masking\n",
    "# To demonstrate these operations let's create some simple images\n",
    "import cv2\n",
    "import numpy as np\n",
    "\n",
    "#If you're wandering why only two dimensions, well this is a grayscale image,\n",
    "# if we doing a colored image, we'd use\n",
    "# rectangle = np.zeros((300,300,3),np.uint8)\n",
    "\n",
    "# Making a square \n",
    "square = np.zeros((300,300),np.uint8)\n",
    "cv2.rectangle(square,(50,50),(250,250),255,-1)\n",
    "cv2.imshow(\"Square\",square)\n",
    "cv2.waitKey(0)\n",
    "\n",
    "# making a ellipse\n",
    "ellipse = np.zeros((300,300),np.uint8)\n",
    "cv2.ellipse(ellipse,(150,150),(150,150),30,0,180,255,-1)\n",
    "cv2.imshow(\"Ellipse\",ellipse)\n",
    "cv2.waitKey(0)\n",
    "\n",
    "cv2.destroyAllWindows()"
   ]
  },
  {
   "cell_type": "markdown",
   "metadata": {},
   "source": [
    "# Lecture 3.8"
   ]
  },
  {
   "cell_type": "code",
   "execution_count": 20,
   "metadata": {},
   "outputs": [],
   "source": [
    "# Shows only where tthey intersect\n",
    "And = cv2.bitwise_and(square,ellipse)\n",
    "cv2.imshow(\"AND\",And)\n",
    "cv2.waitKey(0)\n",
    "\n",
    "#Shows where either square or ellipse is\n",
    "bitwiseOr = cv2.bitwise_or(square,ellipse)\n",
    "cv2.imshow(\"OR\",bitwiseOr)\n",
    "cv2.waitKey(0)\n",
    "\n",
    "#Shows where either exists by itself\n",
    "bitwiseXor = cv2.bitwise_xor(square,ellipse)\n",
    "cv2.imshow(\"XOR\",bitwiseXor)\n",
    "cv2.waitKey(0)\n",
    "\n",
    "# Shows everything that is isn't part of the square\n",
    "bitwiseNot_sq = cv2.bitwise_not(square)\n",
    "cv2.imshow('NOT - Square',bitwiseNot_sq)\n",
    "cv2.waitKey(0)\n",
    "\n",
    "### Notice the last operation inverts the image totally\n",
    "cv2.destroyAllWindows()"
   ]
  },
  {
   "cell_type": "markdown",
   "metadata": {},
   "source": [
    "# Lecture 3.9"
   ]
  },
  {
   "cell_type": "code",
   "execution_count": 21,
   "metadata": {},
   "outputs": [],
   "source": [
    "#Convolutions and Blurring\n",
    "\n",
    "image  = cv2.imread('./images/Dinkar.jpg')\n",
    "cv2.imshow('Original Image',image)\n",
    "cv2.waitKey(0)\n",
    "\n",
    "# Creating our 3 x 3 kernel\n",
    "kernel_3x3 = np.ones((3,3),np.float32)/9\n",
    "\n",
    "# We use the cv2.filter2D to convolve the kernel with an image\n",
    "blurred = cv2.filter2D(image,-1,kernel_3x3)\n",
    "cv2.imshow('3x3 Kernel Blurring',blurred)\n",
    "cv2.waitKey(0)\n",
    "\n",
    "# Creating our 7x7 kernel\n",
    "kernel_7x7 = np.ones((7,7),np.float32)/49\n",
    "\n",
    "blurred2 = cv2.filter2D(image,-1,kernel_7x7)\n",
    "cv2.imshow('7x7 Kernel Blurring',blurred2)\n",
    "cv2.waitKey(0)\n",
    "\n",
    "cv2.destroyAllWindows()"
   ]
  },
  {
   "cell_type": "code",
   "execution_count": 4,
   "metadata": {},
   "outputs": [],
   "source": [
    "#Other commonly used blurring methods in OpenCV\n",
    "import cv2\n",
    "import numpy as np\n",
    "\n",
    "image = cv2.imread('./images/Dinkar.jpg')\n",
    "cv2.imshow('original Image',image)\n",
    "cv2.waitKey(0)\n",
    "# Averaging done by convolving the image with a normalized box filter.\n",
    "# This takes the pixels under the box and replaces the centra; element \n",
    "# Box size needs to odd and positive\n",
    "blur = cv2.blur(image,(3,3))\n",
    "cv2.imshow('Averaging',blur)\n",
    "cv2.waitKey(0)\n",
    "cv2.imwrite('Average_Blurred.png',blur)\n",
    "\n",
    "# Instead of box filter , Gaussian Kernel\n",
    "Gaussian = cv2.GaussianBlur(image,(3,3),0)\n",
    "cv2.imshow('Gaussian Blurring',Gaussian)\n",
    "cv2.waitKey(0)\n",
    "cv2.imwrite('Gaussian_Blurred.png',Gaussian)\n",
    "\n",
    "#Takes median of all the pixels under kernel area and central element is \n",
    "# replaced with this median value\n",
    "median = cv2.medianBlur(image,3)\n",
    "cv2.imshow('Median Blurring',median)\n",
    "cv2.waitKey(0)\n",
    "cv2.imwrite('Median Blurred.png',median)\n",
    "\n",
    "# Bilateral is very effective in noise removal while keeping edges sharp\n",
    "bilateral = cv2.bilateralFilter(image,9,75,75)\n",
    "cv2.imshow('Bilateral Blurring',bilateral)\n",
    "cv2.waitKey(0)\n",
    "cv2.imwrite('Bilateral_blurred.png',bilateral)\n",
    "cv2.destroyAllWindows()"
   ]
  },
  {
   "cell_type": "code",
   "execution_count": 6,
   "metadata": {},
   "outputs": [],
   "source": [
    "# Image De-Noising - Non-Local Means Denoising\n",
    "import numpy as np\n",
    "import cv2\n",
    "\n",
    "image = cv2.imread('./images/Dinkar.jpg')\n",
    "\n",
    "# Parameters, after None are- the filter strength 'h' (5-10) is a good range)\n",
    "# Next is h for Color Components , set as same value as h again\n",
    "dst = cv2.fastNlMeansDenoisingColored(image,None,6,6,7,21)\n",
    "\n",
    "cv2.imshow('Fast Means Denoising',dst)\n",
    "cv2.waitKey()\n",
    "cv2.imwrite('Fast_eans_enoising.jpg',dst)\n",
    "cv2.destroyAllWindows()"
   ]
  },
  {
   "cell_type": "code",
   "execution_count": null,
   "metadata": {},
   "outputs": [],
   "source": [
    "# There are 4 variations of Non-Local Means Denoising:\n",
    "*cv2.factNlMeansDenoising() - works with a single grayscale images\n",
    "*cv2.fastNlMeansDenoisingColored() - works with a color image\n",
    "*cv2.fastNlMeansDenoisingMulti() - works with image sequence captured in short period of time (grayscale image)\n",
    "*cv2.fastNlMeansDenoisingColoredMulti()- same as above, but for color images."
   ]
  },
  {
   "cell_type": "markdown",
   "metadata": {},
   "source": [
    "# Lecture 3.10"
   ]
  },
  {
   "cell_type": "code",
   "execution_count": 7,
   "metadata": {},
   "outputs": [],
   "source": [
    "#Sharpening \n",
    "# By altering our kernels we can implement sharpening , which has the effects of in strengtheing or emphasizing edges in an image\n",
    "import cv2\n",
    "import numpy as np\n",
    "\n",
    "image = cv2.imread('./images/Dinkar.jpg')\n",
    "cv2.imshow('Original',image)\n",
    "cv2.waitKey(0)\n",
    "\n",
    "# Create our sharpening kernel , we don't normalize since the values in the matrix \n",
    "# sum to 1\n",
    "kernel_sharpening = np.array([[-1,-1,-1],\n",
    "                             [-1,9,1],\n",
    "                             [-1,-1,-1]])\n",
    "# applyingg different kernels to the input image\n",
    "sharpened = cv2.filter2D(image,-1,kernel_sharpening)\n",
    "cv2.imshow('Image Sharpening',sharpened)\n",
    "cv2.waitKey(0)\n",
    "cv2.destroyAllWindows()"
   ]
  },
  {
   "cell_type": "markdown",
   "metadata": {},
   "source": [
    "# Lecture 3.11"
   ]
  },
  {
   "cell_type": "code",
   "execution_count": 1,
   "metadata": {},
   "outputs": [],
   "source": [
    "#Thresholding , Binarization & Adaptive Thresholding\n",
    "#In Thresholding , we convert a grey scale image to it's binary form\n",
    "\n",
    "import cv2\n",
    "import numpy as np\n",
    "\n",
    "# Load our image as grayscale\n",
    "image = cv2.imread('./images/Dinkar.jpg',0)\n",
    "cv2.imshow('Original',image)\n",
    "\n",
    "# values below 127 goes to 0(black, everything above threshold goes to 255(white))\n",
    "ret, thresh1 = cv2.threshold(image,127,255,cv2.THRESH_BINARY)\n",
    "cv2.imshow('1 Threshold Binary',thresh1)\n",
    "\n",
    "# Values below 127 go to 255 and values above 127 go to 0 (reverse of above)\n",
    "rest , thresh2 = cv2.threshold(image,127,255,cv2.THRESH_BINARY_INV)\n",
    "cv2.imshow('2 Threshold Binary  Inverse',thresh2)\n",
    "\n",
    "# values above 127 are truncated (held) at 127 ( the 255 argument is unused)\n",
    "ret , thresh3  = cv2.threshold(image,127,255,cv2.THRESH_TRUNC)\n",
    "cv2.imshow('3 THRESH TRUNC',thresh3)\n",
    "\n",
    "# Values below 127 go to 0, above 127 are unchanged\n",
    "ret, thresh4 = cv2.threshold(image,127,255,cv2.THRESH_TOZERO)\n",
    "cv2.imshow('4 THRESH TOZERO',thresh4)\n",
    "\n",
    "# Reverse of above , below 127 is unchanged \n",
    "ret, thresh5 = cv2.threshold(image,127,255,cv2.THRESH_TOZERO_INV)\n",
    "cv2.imshow('5 THRESH TOZERO INV',thresh5)\n",
    "cv2.waitKey(0)\n",
    "\n",
    "cv2.destroyAllWindows()"
   ]
  },
  {
   "cell_type": "code",
   "execution_count": 9,
   "metadata": {},
   "outputs": [],
   "source": [
    "# Is there a better way off thresholding?\n",
    "# The Biggest downfall of those simple threshold methods is that we need to provide the \n",
    "# threshold value (i.e. the 127 value we used previously)\n",
    "# What if thete was a smarter way of doing this ?\n",
    "# There is with , Adaptive thresholding.\n",
    "\n",
    "import cv2\n",
    "import numpy as np\n",
    "\n",
    "# Load our new image\n",
    "image = cv2.imread('images/Origin_of_Species.jpg',0)\n",
    "\n",
    "cv2.imshow('Original',image)\n",
    "cv2.waitKey(0)\n",
    "\n",
    "# Values below 127 goes to 0 (black everything  above goes to 255 (white ))\n",
    "ret, thresh1 = cv2.threshold(image,200,255,cv2.THRESH_BINARY)\n",
    "cv2.imshow('Threshold Binary',thresh1)\n",
    "cv2.waitKey(0)\n",
    "\n",
    "# It's a good pratice to blur images as it removes noise \n",
    "image = cv2.GaussianBlur(image,(3,3),0)\n",
    "\n",
    "# Using adaptiveThreshold\n",
    "thresh = cv2.adaptiveThreshold(image,255,cv2.ADAPTIVE_THRESH_MEAN_C, cv2.THRESH_BINARY,3,5)\n",
    "cv2.imshow('Adaptive mean Thresholding',thresh)\n",
    "cv2.waitKey(0)\n",
    "\n",
    "_ , th2 = cv2.threshold(image,0,255,cv2.THRESH_BINARY + cv2.THRESH_OTSU)\n",
    "cv2.imshow(\"Otsu's Thresholding\",thresh)\n",
    "cv2.waitKey(0)\n",
    "\n",
    "# Otsu's thresholding after Gaussian filtering\n",
    "blur = cv2.GaussianBlur(image,(5,5),0)\n",
    "_, th3 = cv2.threshold(blur,0,255,cv2.THRESH_BINARY + cv2.THRESH_OTSU)\n",
    "cv2.imshow(\"Gaussian Otsu's Thresholding\",thresh)\n",
    "cv2.waitKey(0)\n",
    "\n",
    "cv2.destroyAllWindows()"
   ]
  },
  {
   "cell_type": "markdown",
   "metadata": {},
   "source": [
    "# Lecture 3.12"
   ]
  },
  {
   "cell_type": "code",
   "execution_count": 13,
   "metadata": {},
   "outputs": [],
   "source": [
    "import cv2\n",
    "import numpy as np\n",
    "\n",
    "image = cv2.imread('./images/dinkar_sign.png',0)\n",
    "cv2.imshow('Original',image)\n",
    "cv2.waitKey(0)\n",
    "\n",
    "# Let's define our kernel size\n",
    "kernel = np.ones((3,3),np.uint8)\n",
    "\n",
    "#Now we erode\n",
    "erosion = cv2.erode(image,kernel,iterations=1)\n",
    "cv2.imshow('Erosion',erosion)\n",
    "cv2.waitKey(0)\n",
    "\n",
    "#Dilation\n",
    "dilation = cv2.dilate(image,kernel,iterations=1)\n",
    "cv2.imshow('Dilation',dilation)\n",
    "cv2.waitKey(0)\n",
    "\n",
    "# Opening - Good for removing noise\n",
    "opening = cv2.morphologyEx(image,cv2.MORPH_OPEN,kernel)\n",
    "cv2.imshow('Opening',opening)\n",
    "cv2.waitKey(0)\n",
    "\n",
    "# Closing - Good for removing noise\n",
    "closing = cv2.morphologyEx(image,cv2.MORPH_CLOSE,kernel)\n",
    "cv2.imshow('Closing',closing)\n",
    "cv2.waitKey(0)\n",
    "\n",
    "cv2.destroyAllWindows()"
   ]
  },
  {
   "cell_type": "markdown",
   "metadata": {},
   "source": [
    "# Lecture 3.13"
   ]
  },
  {
   "cell_type": "code",
   "execution_count": 24,
   "metadata": {},
   "outputs": [],
   "source": [
    "# Edge Detection and Image Gradients \n",
    "import cv2\n",
    "import numpy as np\n",
    "\n",
    "image = cv2.imread('./images/Dinkar.jpg',0)\n",
    "height,width = image.shape\n",
    "\n",
    "#Extract Sobel Edges\n",
    "sobel_x = cv2.Sobel(image,cv2.CV_64F,0,1, ksize=5)\n",
    "sobel_y = cv2.Sobel(image,cv2.CV_64F,1,0, ksize=5)\n",
    "\n",
    "cv2.imshow('Original',image)\n",
    "cv2.waitKey(0)\n",
    "cv2.imshow('Sobel X',sobel_x)\n",
    "cv2.waitKey(0)\n",
    "cv2.imshow('Sobel Y',sobel_y)\n",
    "cv2.waitKey(0)\n",
    "\n",
    "sobel_OR = cv2.bitwise_or(sobel_x,sobel_y)\n",
    "cv2.imshow('Sobel_OR',sobel_OR)\n",
    "cv2.waitKey(0)\n",
    "\n",
    "laplacian = cv2.Laplacian(image,cv2.CV_64F)\n",
    "cv2.imshow('Laplacian',laplacian)\n",
    "cv2.waitKey(0)\n",
    "\n",
    "## Then we need to provide two values: threshold1 and threshold2. Any gradient value larger than threshold2\n",
    "#  is considered to be an edge. Any value below threshold1 is considered not to be an edge.\n",
    "# Values in between threshold1 and threshold2 are either classifieed as edges or non-edges based on how their \n",
    "# intensities are \"connected\". In this case, any gradient values below 60 are considered non-edges\n",
    "# whereas any value above 120 are considered edges.\n",
    "\n",
    "# canny Edge detection uses gradient values as thresholds\n",
    "# the first threshoold gradient\n",
    "canny = cv2.Canny(image,50,120)\n",
    "cv2.imshow('Canny',canny)\n",
    "cv2.waitKey(0)\n",
    "\n",
    "cv2.destroyAllWindows()"
   ]
  },
  {
   "cell_type": "markdown",
   "metadata": {},
   "source": [
    "# Lecture 3.14"
   ]
  },
  {
   "cell_type": "code",
   "execution_count": 28,
   "metadata": {},
   "outputs": [],
   "source": [
    "# Getting Perspective Transform\n",
    "import cv2\n",
    "import numpy as np\n",
    "import matplotlib.pyplot as plt\n",
    "\n",
    "image = cv2.imread('./images/scan.jpg')\n",
    "\n",
    "cv2.imshow('Original',image)\n",
    "cv2.waitKey(0)\n",
    "\n",
    "# Cooridinates of the 4 corners of the original image \n",
    "points_A = np.float32([[320,15],[700,215],[85,610],[530,780]])\n",
    "\n",
    "# Coordinates of the 4 corners of the desired output \n",
    "# we use a ratio of A4 paper 1:1.41\n",
    "points_B = np.float32([[0,0],[420,0],[0,594],[420,594]])\n",
    "\n",
    "# Use the two sets of four points to compute \n",
    "# the perspective Transformation Matrix , M\n",
    "M = cv2.getPerspectiveTransform(points_A,points_B)\n",
    "\n",
    "warped = cv2.warpPerspective(image,M,(420,594))\n",
    "\n",
    "cv2.imshow('warpPerspective',warped)\n",
    "cv2.waitKey(0)\n",
    "cv2.destroyAllWindows()"
   ]
  },
  {
   "cell_type": "code",
   "execution_count": 31,
   "metadata": {},
   "outputs": [],
   "source": [
    "# In affine tansforms you only need 3 coordinates to obtain the correct trasform\n",
    "import cv2\n",
    "import numpy as np\n",
    "import matplotlib.pyplot as plt\n",
    "\n",
    "image = cv2.imread('./images/ex2.jpg')\n",
    "rows,cols,ch = image.shape\n",
    "\n",
    "cv2.imshow('Original Image',image)\n",
    "cv2.waitKey(0)\n",
    "\n",
    "# Coordinates of the 4 corners of the original image\n",
    "points_A = np.float32([[320,15],[700,215],[85,610]])\n",
    "\n",
    "# Coordinates of the 4 corners of the desired output \n",
    "# we use a ratio of an A4 Paper 1:1.41\n",
    "points_B = np.float32([[0,0],[420,0],[0,594]])\n",
    "\n",
    "# use the two sets of four points to compute \n",
    "# the perspective trabsformation Matrix , M\n",
    "M = cv2.getAffineTransform(points_A,points_B)\n",
    "\n",
    "warped = cv2.warpAffine(image,M,(cols,rows))\n",
    "cv2.imshow('WarpPerspective',warped)\n",
    "cv2.waitKey(0)\n",
    "cv2.destroyAllWindows()"
   ]
  },
  {
   "cell_type": "markdown",
   "metadata": {},
   "source": [
    "# Mini project #1 - Live Sketch Using Webcam"
   ]
  },
  {
   "cell_type": "code",
   "execution_count": 7,
   "metadata": {},
   "outputs": [],
   "source": [
    "import cv2 \n",
    "import numpy as np\n",
    "\n",
    "# our sketch generating function\n",
    "def sketch(image):\n",
    "    # Convert image to grayscale\n",
    "    img_gray = cv2.cvtColor(image,cv2.COLOR_BGR2GRAY)\n",
    "    \n",
    "    # Clean up image using Gaussian Blur\n",
    "    imag_gray_blur = cv2.GaussianBlur(img_gray,(7,7),0)\n",
    "    \n",
    "    # Extract Edges\n",
    "    canny_edges = cv2.Canny(imag_gray_blur,10,30)\n",
    "    \n",
    "    # Do an invert binarize the image\n",
    "    ret, mask = cv2.threshold(canny_edges,100,255,cv2.THRESH_BINARY_INV)\n",
    "    return mask\n",
    "\n",
    "\n",
    "# Initailize webcam, cap is the object provided by VideoCapture \n",
    "# It contains a booolean indicating if it was successfull(ret) \n",
    "# It also contains the image collected from the webcam(frame)\n",
    "cap = cv2.VideoCapture(0)\n",
    "\n",
    "while True:\n",
    "    ret,frame = cap.read()\n",
    "    cv2.imshow('Our Live Sketcher',sketch(frame))\n",
    "    if cv2.waitKey(1)==13: # 13 is the Enter Key\n",
    "        break\n",
    "        \n",
    "        \n",
    "# Realease camera and close windows\n",
    "cap.release()\n",
    "cv2.destroyAllWindows()"
   ]
  },
  {
   "cell_type": "code",
   "execution_count": null,
   "metadata": {},
   "outputs": [],
   "source": []
  }
 ],
 "metadata": {
  "kernelspec": {
   "display_name": "Python 3",
   "language": "python",
   "name": "python3"
  },
  "language_info": {
   "codemirror_mode": {
    "name": "ipython",
    "version": 3
   },
   "file_extension": ".py",
   "mimetype": "text/x-python",
   "name": "python",
   "nbconvert_exporter": "python",
   "pygments_lexer": "ipython3",
   "version": "3.7.6"
  }
 },
 "nbformat": 4,
 "nbformat_minor": 4
}
